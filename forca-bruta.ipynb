{
 "cells": [
  {
   "cell_type": "markdown",
   "metadata": {},
   "source": [
    "Para a simulação de um algoritmo que atenda ao problema do caixeiro viajante, faremos uma abordagem inicial em força bruta. Nesta estratégia deve-se considerar todas as permutações possíveis dos pontos do itinerário, representadas pelas cidades, sejam analisadas. Reconhecidamente por este método o custo computacional pode ser exponencial, forçando limitarmos o número de cidades usadas na iteração. Nos testes executados, tivemos um desempenho aceitável até 13 cidades, acima deste valor o algoritmo ficou inviável.\n",
    "\n",
    "<descrever a relação matemática de uso exponencial de recursos que demonstre a restrição ao algoritmo de força bruta>\n",
    "\n",
    "Primeiramente é criada uma matriz de distância do ponto de origem, indentificado como depot = 0(zero), em relação às outras cidades que farão parte do percurso. A função create_data_model cria esta matriz. A função calculate_route_distance incrementa as distâncias das cidades a partir de uma rota proposta passada em parâmetro, retornando o total percorrido incluindo o ponto de origem no início e o retorno a origem no final da rota.  "
   ]
  },
  {
   "cell_type": "code",
   "execution_count": 1,
   "metadata": {},
   "outputs": [],
   "source": [
    "from itertools import permutations\n",
    "import time\n",
    "\n",
    "def create_data_model():\n",
    "    \"\"\"Stores the data for the problem with the specified number of cities.\"\"\"\n",
    "    distance_matrix = [\n",
    "        [0, 2451, 713, 1018, 1631, 1374, 2408, 213, 2571, 875, 1420, 2145, 1972],\n",
    "        [2451, 0, 1745, 1524, 831, 1240, 959, 2596, 403, 1589, 1374, 357, 579],\n",
    "        [713, 1745, 0, 355, 920, 803, 1737, 851, 1858, 262, 940, 1453, 1260],\n",
    "        [1018, 1524, 355, 0, 700, 862, 1395, 1123, 1584, 466, 1056, 1280, 987],\n",
    "        [1631, 831, 920, 700, 0, 663, 1021, 1769, 949, 796, 879, 586, 371],\n",
    "        [1374, 1240, 803, 862, 663, 0, 1681, 1551, 1765, 547, 225, 887, 999],\n",
    "        [2408, 959, 1737, 1395, 1021, 1681, 0, 2493, 678, 1724, 1891, 1114, 701],\n",
    "        [213, 2596, 851, 1123, 1769, 1551, 2493, 0, 2699, 1038, 1605, 2300, 2099],\n",
    "        [2571, 403, 1858, 1584, 949, 1765, 678, 2699, 0, 1744, 1645, 653, 600],\n",
    "        [875, 1589, 262, 466, 796, 547, 1724, 1038, 1744, 0, 679, 1272, 1162],\n",
    "        [1420, 1374, 940, 1056, 879, 225, 1891, 1605, 1645, 679, 0, 1017, 1200],\n",
    "        [2145, 357, 1453, 1280, 586, 887, 1114, 2300, 653, 1272, 1017, 0, 504],\n",
    "        [1972, 579, 1260, 987, 371, 999, 701, 2099, 600, 1162, 1200, 504, 0],\n",
    "    ]\n",
    "\n",
    "    distance_matrix = [[0, 19072, 25995], [20314, 0, 8390], [29115, 8816, 0]]\n",
    "          \n",
    "    return {\"distance_matrix\": distance_matrix, \"depot\": 0}\n",
    "\n",
    "def calculate_route_distance(route, distance_matrix):\n",
    "    \"\"\"Calculates the total distance of a given route.\"\"\"\n",
    "    distance = 0\n",
    "    for i in range(len(route) - 1):\n",
    "        distance += distance_matrix[route[i]][route[i + 1]]\n",
    "    # Add return to the depot\n",
    "    distance += distance_matrix[route[-1]][route[0]]\n",
    "    return distance"
   ]
  },
  {
   "cell_type": "markdown",
   "metadata": {},
   "source": [
    "Para o algoritmo de força bruta propriamente, a função brute_force_tsp executa um procedimento iterativo, a partir da matriz de distância, com todas as permutações de cada uma das cidades. Para a permutação foi utilizado a biblioteca permutations do Python. Com isso é calculado a distância de cada uma dessas rotas (usando a função calculate_route_distance), comparando os resultados obtidos até determinar a rota com a menor distância. A função time() contabiliza o tempo de processamento."
   ]
  },
  {
   "cell_type": "code",
   "execution_count": 2,
   "metadata": {},
   "outputs": [
    {
     "name": "stdout",
     "output_type": "stream",
     "text": [
      "Melhor rota: 0 -> 2 -> 1 -> 0\n",
      "Distância mínima: 55125 milhas\n",
      "Tempo de execução: 0.00 segundos\n"
     ]
    }
   ],
   "source": [
    "def brute_force_tsp(data):\n",
    "    \"\"\"Solve the TSP using brute force.\"\"\"\n",
    "    num_cities = len(data[\"distance_matrix\"])\n",
    "    depot = data[\"depot\"]\n",
    "    cities = list(range(num_cities))\n",
    "    cities.remove(depot)  # Exclude the depot from the permutations\n",
    "\n",
    "    min_distance = float(\"inf\")\n",
    "    best_route = None\n",
    "\n",
    "    for perm in permutations(cities):\n",
    "        current_route = [depot] + list(perm) + [depot]  # Start and end at depot\n",
    "        current_distance = calculate_route_distance(current_route, data[\"distance_matrix\"])\n",
    "        if current_distance < min_distance:\n",
    "            min_distance = current_distance\n",
    "            best_route = current_route\n",
    "\n",
    "    return best_route, min_distance\n",
    "\n",
    "def main():\n",
    "    \n",
    "    data = create_data_model()\n",
    "    \n",
    "    # Medir o tempo inicial\n",
    "    start_time = time.time()\n",
    "\n",
    "    best_route, min_distance = brute_force_tsp(data)\n",
    "    \n",
    "    # Medir o tempo final\n",
    "    end_time = time.time()\n",
    "    execution_time = end_time - start_time\n",
    "\n",
    "    print(f\"Melhor rota: {' -> '.join(map(str, best_route))}\")\n",
    "    print(f\"Distância mínima: {min_distance} milhas\")\n",
    "    print(f\"Tempo de execução: {execution_time:.2f} segundos\")\n",
    "\n",
    "\n",
    "#if _name_ == \"_main_\":\n",
    "main()"
   ]
  },
  {
   "cell_type": "markdown",
   "metadata": {},
   "source": []
  },
  {
   "cell_type": "code",
   "execution_count": null,
   "metadata": {},
   "outputs": [],
   "source": []
  }
 ],
 "metadata": {
  "kernelspec": {
   "display_name": "Python 3",
   "language": "python",
   "name": "python3"
  },
  "language_info": {
   "codemirror_mode": {
    "name": "ipython",
    "version": 3
   },
   "file_extension": ".py",
   "mimetype": "text/x-python",
   "name": "python",
   "nbconvert_exporter": "python",
   "pygments_lexer": "ipython3",
   "version": "3.12.2"
  }
 },
 "nbformat": 4,
 "nbformat_minor": 2
}
