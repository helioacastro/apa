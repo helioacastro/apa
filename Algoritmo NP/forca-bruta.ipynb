{
 "cells": [
  {
   "cell_type": "markdown",
   "metadata": {},
   "source": [
    "## Estudo de caso\n",
    "\n",
    "Para aplicação do algoritmo do problema do caixeiro viajante, usamos como caso de uso o serviço de transporte de empregados da empresa estatal Nuclebras Equipamentos Pesados (NUCLEP). Esta empresa estatal do governo federal é vinculada ao Ministério de Minas e Energia. A NUCLEP tem como objetivos principais projetar, desenvolver, fabricar e comercializar equipamentos pesados para os setores Nuclear, Defesa, Óleo e Gás, Energia e outros. Estratégica pela tecnologia que domina, possui características únicas de suas instalações e equipamentos. Possui uma área de 1.5 milhão de metros quadrados, com 85 mil metros quadrados de área fabril. A NUCLEP está geograficamente localizada no município de Itaguaí, no Estado do Rio de Janeiro. Possui também Terminal Portuário Privativo de embarque para até 39 ton/m2. Conta com cerca de 800 empregados diretos, sem contar a mão-de-obra terceirizada. A empresa oferece transporte para os seus colaboradores em vários pontos no estado do Rio de Janeiro. Contando com 30 linhas de transporte regular que cobrem várias cidades e bairros da capital fluminense. Ainda assim, durante alguns projetos, são necessários deslocamentos de empregados em outros horários. Nesse ponto, a programação da logística de transporte da empresa, deve distribuir transporte para vários empregados a semelhança do problema do caixeiro viajante. Ou seja, a partir da rodoviária da NUCLEP os transportes partem para vários pontos do estado e retornam ao ponto de origem para os empregados iniciarem suas atividades. \n",
    "\n",
    "Como objeto de estudo foi selecionado uma amostragem a partir de uma das linhas. Apesar de contar com 30 linhas regulares, totalizando 575 pontos de embarque, esta segmentação ainda permite uma otimização do transporte oferecido pela empresa. Para isso foi utilizada a linha 11, de Jacarepaguá, com 25 pontos de embarque, para os testes dos algoritmos.  Esta linha em questão atende não somente Jacarepaguá, mas os bairros Anil, Barra da Tijuca, Freguesia, Pechincha, Sulacap, Tanque e Taquara. Contudo, durante os testes com o algoritmo de força bruta, tivemos que reduzir para 12 pontos de embarque. Suprimindo pontos que estavam na mesma rua, mas em números diferentes.\n",
    "\n",
    "## Pré-processamento\n",
    "\n",
    "Os dados de embarque informados pela NUCLEP não possuíam informações de georeferenciadas. Com isso foi necessário um trabalho de pré-processamento para tratar esta informação no modelo de algoritmo de caixeiro viajante. Foi utilizada a biblioteca de funções Geoapify para determinar as referências geográficas. Durante esta fase ainda foi necessário um refinamento nos pontos de dados informados, pois a base disponibilizada pela empresa não indicava, em alguns pontos, o número do logradouro, usando referências de construções, por proximidade, para facilitar o entendimento do empregado em relação ao ponto de embarque."
   ]
  },
  {
   "cell_type": "code",
   "execution_count": 27,
   "metadata": {},
   "outputs": [],
   "source": [
    "import pandas as pd\n",
    "import requests\n",
    "\n",
    "# Função para retornar a coordenada de um endereço\n",
    "def retorne_coordenada(endereco):\n",
    "    api_key = 'cf30db6de8bf4244b1626a7688b31701'\n",
    "    url = f'https://api.geoapify.com/v1/geocode/search?text={endereco}&apiKey={api_key}'\n",
    "    response = requests.get(url)\n",
    "    if response.status_code == 200:\n",
    "        data = response.json()\n",
    "        if data['features']:\n",
    "            coordinates = data['features'][0]['geometry']['coordinates']\n",
    "            return coordinates\n",
    "    return None\n",
    "\n",
    "# Carregar os pontos de embarque da Linha de jacarepaguá (código 55)\n",
    "pontos_linha_jpa = pd.read_csv(\"pontos_linha_jpa.csv\", sep=\";\", header=0, encoding=\"iso-8859-1\")"
   ]
  },
  {
   "cell_type": "markdown",
   "metadata": {},
   "source": [
    "A partir da função retorne_coordenada os dados dos pontos de embarque passaram a contar com os dados de longitude e latitude. Além de adicionar o ponto de origem da NUCLEP com o primeiro ponto do dataset criado."
   ]
  },
  {
   "cell_type": "code",
   "execution_count": 28,
   "metadata": {},
   "outputs": [
    {
     "name": "stdout",
     "output_type": "stream",
     "text": [
      "NUCLEP\n",
      "[-43.8288403, -22.8934134]\n",
      "Avenida Geremario Dantas, 1083\n",
      "[-43.3514921, -22.9365601]\n",
      "Estrada de Jacarepagua, 7300\n",
      "[-43.3389721, -22.9455302]\n",
      "Estrada do Tindiba, 1148\n",
      "[-43.3651905, -22.9284232]\n",
      "Estrada dos Tres Rios, 223\n",
      "[-43.3416453, -22.9392088]\n",
      "Rua Marechal Jose Bevilaqua, 240\n",
      "[-43.36932, -22.923261]\n",
      "Rua Tirol, 356\n",
      "[-43.3385247, -22.940199]\n",
      "Rua Bacairis, 106\n",
      "[-43.372278, -22.920207]\n",
      "Avenida dos Mananciais, 771\n",
      "[-43.3855556, -22.9170584]\n",
      "Avenida Alberico Diniz, 1645\n",
      "[-43.392382, -22.886949]\n",
      "Estrada do Engenho Dagua, 2\n",
      "[-43.349606, -22.955552]\n",
      "Estrada do Catonho, 650\n",
      "[-43.3798223, -22.9070657]\n",
      "Estrada Coronel Pedro Correa, 1470\n",
      "[-43.3872686, -22.9717692]\n"
     ]
    }
   ],
   "source": [
    "# Adicionar o endereço da Nuclep ao dataset pontos_linha_jpa\n",
    "nuclep_endereco = \"NUCLEP\"\n",
    "\n",
    "# Criar um DataFrame com o endereço da Nuclep\n",
    "df_nuclep = pd.DataFrame({'nmPonto': [nuclep_endereco]})\n",
    "\n",
    "# Concatenar o DataFrame df_nuclep com pontos_linha_jpa\n",
    "pontos_linha_jpa = pd.concat([df_nuclep, pontos_linha_jpa], ignore_index=True)\n",
    "\n",
    "# Loop para ler cada registro e atribuir valores de latitude e longitude\n",
    "for index, row in pontos_linha_jpa.iterrows():\n",
    "    coordenadas = retorne_coordenada(row['nmPonto'])\n",
    "    print(row['nmPonto'])\n",
    "    print(coordenadas)\n",
    "    if coordenadas:\n",
    "        pontos_linha_jpa.at[index, 'latitude'] = coordenadas[1]\n",
    "        pontos_linha_jpa.at[index, 'longitude'] = coordenadas[0]\n",
    "    else:\n",
    "        pontos_linha_jpa.at[index, 'latitude'] = None\n",
    "        pontos_linha_jpa.at[index, 'longitude'] = None"
   ]
  },
  {
   "cell_type": "markdown",
   "metadata": {},
   "source": [
    "A parte final do pré-processamento é a criação de uma matriz de distância. Onde cada linha na matriz representa um dos pontos de embarque e o ponto de origem, normalmente indentificado como depot=0 (zero). E no par linha/coluna nesta matriz são armazenadas as distâncias, o que infere que a diagonal principal da matriz apresente todos os valores zerados. Para fazer esta matriz foi utilizado uma função do geoapify routematrix. Para atender ao formato de entrada desta função, os dados de longitude e latitude foram consolidados em uma matriz coordenadas."
   ]
  },
  {
   "cell_type": "code",
   "execution_count": 29,
   "metadata": {},
   "outputs": [],
   "source": [
    "# Função para calcular a distância entre os pontos de embarque e gerar a matriz de distâncias\n",
    "def calcular_distancias(coordenadas):\n",
    "    api_key = 'cf30db6de8bf4244b1626a7688b31701'\n",
    "    url = 'https://api.geoapify.com/v1/routematrix?apiKey=' + api_key\n",
    "    payload = {\n",
    "        \"mode\": \"drive\",\n",
    "        \"sources\": [{\"location\": coord} for coord in coordenadas],\n",
    "        \"targets\": [{\"location\": coord} for coord in coordenadas]\n",
    "    }\n",
    "\n",
    "    response = requests.post(url, json=payload)\n",
    "    if response.status_code == 200:\n",
    "        data = response.json()\n",
    "        if 'sources_to_targets' in data:\n",
    "            distancias = []\n",
    "            for linha in data['sources_to_targets']:\n",
    "                distancias.append([item['distance'] for item in linha])\n",
    "            return distancias\n",
    "    return None\n",
    "\n",
    "def criar_modelo(): \n",
    "    # Montar um vetor de coordenadas com o par latitude e longitude vindo do dataset pontos_linha_jpa\n",
    "    coordenadas = []\n",
    "    for index, row in pontos_linha_jpa.iterrows():\n",
    "        if pd.notnull(row['longitude']) and pd.notnull(row['latitude']):\n",
    "            coordenadas.append([row['longitude'], row['latitude']])\n",
    "            \n",
    "    # Criar a matriz de distâncias\n",
    "    matriz_distancia = calcular_distancias(coordenadas)\n",
    "\n",
    "    # Exibir a matriz de distância quebrando em nova linha cada conjunto\n",
    "    for linha in matriz_distancia:\n",
    "        print(linha)\n",
    "        \n",
    "    return {\"distance_matrix\": matriz_distancia, \"depot\": 0}    "
   ]
  },
  {
   "cell_type": "markdown",
   "metadata": {},
   "source": [
    "## Força Bruta\n",
    "\n",
    "Para a simulação de um algoritmo que atenda ao problema do caixeiro viajante, faremos uma abordagem inicial em força bruta. Nesta estratégia deve-se considerar todas as permutações possíveis dos pontos do itinerário, representadas pelos pontos de embarque, sejam analisadas. Reconhecidamente por este método o custo computacional pode ser exponencial, forçando limitarmos o número de pontos usados na iteração. Nos testes executados, tivemos um desempenho aceitável até 13 pontos de embarque, acima deste valor o algoritmo ficou inviável.\n",
    "\n",
    "\n",
    "Primeiramente é definida a função calculate_route_distance que incrementa as distâncias dos pontos a partir de uma rota proposta passada em parâmetro, retornando o total percorrido incluindo o ponto de origem no início e o retorno a origem no final da rota.  "
   ]
  },
  {
   "cell_type": "code",
   "execution_count": 30,
   "metadata": {},
   "outputs": [],
   "source": [
    "from itertools import permutations\n",
    "import time\n",
    "\n",
    "def create_data_model():\n",
    "    \"\"\"Stores the data for the problem with the specified number of cities.\"\"\"\n",
    "    distance_matrix = [\n",
    "        [0, 2451, 713, 1018, 1631, 1374, 2408, 213, 2571, 875, 1420, 2145, 1972],\n",
    "        [2451, 0, 1745, 1524, 831, 1240, 959, 2596, 403, 1589, 1374, 357, 579],\n",
    "        [713, 1745, 0, 355, 920, 803, 1737, 851, 1858, 262, 940, 1453, 1260],\n",
    "        [1018, 1524, 355, 0, 700, 862, 1395, 1123, 1584, 466, 1056, 1280, 987],\n",
    "        [1631, 831, 920, 700, 0, 663, 1021, 1769, 949, 796, 879, 586, 371],\n",
    "        [1374, 1240, 803, 862, 663, 0, 1681, 1551, 1765, 547, 225, 887, 999],\n",
    "        [2408, 959, 1737, 1395, 1021, 1681, 0, 2493, 678, 1724, 1891, 1114, 701],\n",
    "        [213, 2596, 851, 1123, 1769, 1551, 2493, 0, 2699, 1038, 1605, 2300, 2099],\n",
    "        [2571, 403, 1858, 1584, 949, 1765, 678, 2699, 0, 1744, 1645, 653, 600],\n",
    "        [875, 1589, 262, 466, 796, 547, 1724, 1038, 1744, 0, 679, 1272, 1162],\n",
    "        [1420, 1374, 940, 1056, 879, 225, 1891, 1605, 1645, 679, 0, 1017, 1200],\n",
    "        [2145, 357, 1453, 1280, 586, 887, 1114, 2300, 653, 1272, 1017, 0, 504],\n",
    "        [1972, 579, 1260, 987, 371, 999, 701, 2099, 600, 1162, 1200, 504, 0],\n",
    "    ]\n",
    "\n",
    "    #distance_matrix = data\n",
    "    #distance_matrix = [[0, 19072, 25995], [20314, 0, 8390], [29115, 8816, 0]]\n",
    "          \n",
    "    return {\"distance_matrix\": distance_matrix, \"depot\": 0}\n",
    "\n",
    "def calculate_route_distance(route, distance_matrix):\n",
    "    \"\"\"Calculates the total distance of a given route.\"\"\"\n",
    "    distance = 0\n",
    "    for i in range(len(route) - 1):\n",
    "        distance += distance_matrix[route[i]][route[i + 1]]\n",
    "    # Add return to the depot\n",
    "    distance += distance_matrix[route[-1]][route[0]]\n",
    "    return distance"
   ]
  },
  {
   "cell_type": "markdown",
   "metadata": {},
   "source": [
    "Para o algoritmo de força bruta propriamente, a função brute_force_tsp executa um procedimento iterativo, a partir da matriz de distância, com todas as permutações de cada um dos pontos de embarque. Para a permutação foi utilizado a biblioteca permutations do Python. Com isso é calculado a distância de cada uma dessas rotas (usando a função calculate_route_distance), comparando os resultados obtidos até determinar a rota com a menor distância. A função time() contabiliza o tempo de processamento."
   ]
  },
  {
   "cell_type": "code",
   "execution_count": null,
   "metadata": {},
   "outputs": [
    {
     "name": "stdout",
     "output_type": "stream",
     "text": [
      "[0, 66247, 68609, 63384, 68761, 62987, 68349, 62067, 60015, 55725, 72007, 59450, 68050]\n",
      "[65338, 0, 2362, 2517, 3033, 3245, 2102, 4594, 6422, 10300, 4284, 6024, 7050]\n",
      "[68355, 3020, 0, 5537, 1877, 6265, 946, 7614, 9442, 13317, 1818, 9044, 7461]\n",
      "[62270, 2129, 4491, 0, 4643, 728, 4231, 1253, 3081, 8027, 6413, 3748, 9179]\n",
      "[66478, 1143, 1608, 3660, 0, 4388, 1348, 5737, 7565, 11440, 2530, 7167, 7833]\n",
      "[61680, 4204, 6566, 1133, 6718, 0, 6306, 525, 2353, 7016, 8488, 2737, 11254]\n",
      "[67409, 2074, 1248, 4591, 931, 5319, 0, 6668, 8496, 12371, 3461, 8098, 8764]\n",
      "[61529, 3583, 5945, 1454, 6097, 1055, 5685, 0, 1742, 6491, 7867, 2212, 10633]\n",
      "[59215, 4914, 7276, 2785, 7428, 2386, 7016, 2850, 0, 6182, 9198, 1838, 12302]\n",
      "[55503, 10589, 12951, 8063, 13103, 7665, 12691, 6749, 5946, 0, 14873, 4131, 15936]\n",
      "[72478, 3174, 2996, 5691, 3667, 6419, 2736, 7768, 9596, 13474, 0, 9198, 6263]\n",
      "[60316, 5805, 8167, 3938, 8319, 3539, 7907, 2618, 2219, 5276, 10089, 0, 12855]\n",
      "[65422, 9347, 11525, 7222, 12196, 6823, 11265, 7348, 8633, 11953, 8419, 9834, 0]\n",
      "Melhor rota: 0 -> 9 -> 11 -> 8 -> 5 -> 7 -> 3 -> 1 -> 6 -> 4 -> 2 -> 10 -> 12 -> 0\n",
      "Distância mínima: 146713 milhas\n",
      "Tempo de execução: 833.94 segundos\n"
     ]
    }
   ],
   "source": [
    "def brute_force_tsp(data):\n",
    "    \"\"\"Solve the TSP using brute force.\"\"\"\n",
    "    num_cities = len(data[\"distance_matrix\"])\n",
    "    depot = data[\"depot\"]\n",
    "    cities = list(range(num_cities))\n",
    "    cities.remove(depot)  # Exclude the depot from the permutations\n",
    "\n",
    "    min_distance = float(\"inf\")\n",
    "    best_route = None\n",
    "\n",
    "    for perm in permutations(cities):\n",
    "        current_route = [depot] + list(perm) + [depot]  # Start and end at depot\n",
    "        current_distance = calculate_route_distance(current_route, data[\"distance_matrix\"])\n",
    "        if current_distance < min_distance:\n",
    "            min_distance = current_distance\n",
    "            best_route = current_route\n",
    "\n",
    "    return best_route, min_distance\n",
    "\n",
    "def main():\n",
    "    \n",
    "    #data = create_data_model()\n",
    "    data = criar_modelo()\n",
    "    \n",
    "    # Medir o tempo inicial\n",
    "    start_time = time.time()\n",
    "\n",
    "    best_route, min_distance = brute_force_tsp(data)\n",
    "    \n",
    "    # Medir o tempo final\n",
    "    end_time = time.time()\n",
    "    execution_time = end_time - start_time\n",
    "\n",
    "    print(f\"Melhor rota: {' -> '.join(map(str, best_route))}\")\n",
    "    print(f\"Distância mínima: {min_distance} metros\")\n",
    "    print(f\"Tempo de execução: {execution_time:.2f} segundos\")\n",
    "\n",
    "\n",
    "#if _name_ == \"_main_\":\n",
    "main()"
   ]
  },
  {
   "cell_type": "markdown",
   "metadata": {},
   "source": [
    "## Algoritmo Guloso\n",
    "\n",
    "Uma opção para resolver o problema de caixeiro viajante é utilizar uma heurística do \"Caminho Mais Perto Primeiro\" (Nearest Neighbor). Trata-se de um algoritmo guloso. Começando pelo caminho inicial onde busca-se o ponto de embarque mais próximo que ainda não foi visitado. E assim sucessivamente até atender a todos os pontos de embarque e retornar para a origem (depot=0), no caso em questão, da rodoviária da NUCLEP.\n",
    "\n",
    "Para esta abordagem, faremos uso da mesma matriz de distância já previamente calculada. Nessa função é necessário manter o registro dos pontos de embarque já visitados e assim fazer a iteração no conjunto ainda a ser visitado."
   ]
  },
  {
   "cell_type": "code",
   "execution_count": null,
   "metadata": {},
   "outputs": [
    {
     "name": "stdout",
     "output_type": "stream",
     "text": [
      "[0, 66247, 68609, 63384, 68761, 62987, 68349, 62067, 60015, 55725, 72007, 59450, 68050]\n",
      "[65338, 0, 2362, 2517, 3033, 3245, 2102, 4594, 6422, 10300, 4284, 6024, 7050]\n",
      "[68355, 3020, 0, 5537, 1877, 6265, 946, 7614, 9442, 13317, 1818, 9044, 7461]\n",
      "[62270, 2129, 4491, 0, 4643, 728, 4231, 1253, 3081, 8027, 6413, 3748, 9179]\n",
      "[66478, 1143, 1608, 3660, 0, 4388, 1348, 5737, 7565, 11440, 2530, 7167, 7833]\n",
      "[61680, 4204, 6566, 1133, 6718, 0, 6306, 525, 2353, 7016, 8488, 2737, 11254]\n",
      "[67409, 2074, 1248, 4591, 931, 5319, 0, 6668, 8496, 12371, 3461, 8098, 8764]\n",
      "[61529, 3583, 5945, 1454, 6097, 1055, 5685, 0, 1742, 6491, 7867, 2212, 10633]\n",
      "[59215, 4914, 7276, 2785, 7428, 2386, 7016, 2850, 0, 6182, 9198, 1838, 12302]\n",
      "[55503, 10589, 12951, 8063, 13103, 7665, 12691, 6749, 5946, 0, 14873, 4131, 15936]\n",
      "[72478, 3174, 2996, 5691, 3667, 6419, 2736, 7768, 9596, 13474, 0, 9198, 6263]\n",
      "[60316, 5805, 8167, 3938, 8319, 3539, 7907, 2618, 2219, 5276, 10089, 0, 12855]\n",
      "[65422, 9347, 11525, 7222, 12196, 6823, 11265, 7348, 8633, 11953, 8419, 9834, 0]\n",
      "Rota: [0, 9, 11, 8, 5, 7, 3, 1, 6, 4, 2, 10, 12, 0]\n",
      "Distância total: 146713 metros\n",
      "Tempo de execução: 0.21 segundos\n"
     ]
    }
   ],
   "source": [
    "def nearest_neighbor_tsp(data):\n",
    "    num_pontos = len(data[\"distance_matrix\"])\n",
    "    depot = data[\"depot\"]\n",
    "    matriz_distancia = data[\"distance_matrix\"]\n",
    "\n",
    "    # Inicializa a rota começando pelo depósito\n",
    "    current_point = depot\n",
    "    route = [current_point]\n",
    "    total_distance = 0\n",
    "\n",
    "    # Conjunto de pontos não visitados\n",
    "    unvisited = set(range(num_pontos))\n",
    "    unvisited.remove(depot)\n",
    "\n",
    "    while unvisited:\n",
    "        # Encontra o ponto mais próximo não visitado\n",
    "        nearest_point = None\n",
    "        min_distance = float('inf')\n",
    "        for point in unvisited:\n",
    "            if matriz_distancia[current_point][point] < min_distance:\n",
    "                min_distance = matriz_distancia[current_point][point]\n",
    "                nearest_point = point\n",
    "\n",
    "        total_distance += min_distance\n",
    "        route.append(nearest_point)\n",
    "        current_point = nearest_point\n",
    "        unvisited.remove(nearest_point)\n",
    "\n",
    "    # Retorna ao depósito\n",
    "    total_distance += matriz_distancia[current_point][depot]\n",
    "    route.append(depot)\n",
    "\n",
    "    return route, total_distance\n",
    "\n",
    "data = criar_modelo()\n",
    "\n",
    "# Medir o tempo inicial\n",
    "start_time = time.time() * 1000\n",
    "\n",
    "route, total_distance = nearest_neighbor_tsp(data)\n",
    "\n",
    "# Medir o tempo final\n",
    "end_time = time.time() * 1000\n",
    "execution_time = end_time - start_time\n",
    "\n",
    "print(f\"Rota: {route}\")\n",
    "print(f\"Distância total: {total_distance} metros\")\n",
    "\n",
    "print(f\"Tempo de execução: {execution_time:.2f} segundos\")"
   ]
  },
  {
   "cell_type": "markdown",
   "metadata": {},
   "source": [
    "## Resultado comparativo\n",
    "\n",
    "No comparativo entre as duas abordagens: força bruta e um algoritmo guloso, para a amostra em questão, mostrou-se um resultado de melhor rota exatamente igual. Ambos os métodos determinaram o mesmo caminho. O que não necessariamente pode ser uma regra para outras amostragens. No entanto, a dificuldade do processamento em força bruta praticamente limita as escolhas por este método para conjunto de dados bem reduzidos. \n"
   ]
  },
  {
   "cell_type": "code",
   "execution_count": 53,
   "metadata": {},
   "outputs": [
    {
     "data": {
      "image/png": "[encoded data removed]",
      "text/plain": [
       "<Figure size 1000x200 with 1 Axes>"
      ]
     },
     "metadata": {},
     "output_type": "display_data"
    }
   ],
   "source": [
    "\n",
    "import pandas as pd\n",
    "\n",
    "import matplotlib.pyplot as plt\n",
    "\n",
    "# Dados coletados dos dois códigos\n",
    "data = {\n",
    "    'Método': ['Nearest Neighbor', 'Brute Force'],\n",
    "    'Distância Total (metros)': [146713, 146713],\n",
    "    'Tempo de Execução (segundos)': [0.21, 833.94]\n",
    "}\n",
    "\n",
    "# Criar DataFrame\n",
    "df_resultados = pd.DataFrame(data)\n",
    "# Plotar tabela com cores\n",
    "fig, ax = plt.subplots(figsize=(10, 2))  # Ajustar o tamanho da figura conforme necessário\n",
    "ax.axis('tight')\n",
    "ax.axis('off')\n",
    "table = ax.table(cellText=df_resultados.values, colLabels=df_resultados.columns, cellLoc='center', loc='center')\n",
    "\n",
    "# Adicionar cores às células\n",
    "colors = ['#FFDDC1', '#C1E1FF']\n",
    "for i in range(len(df_resultados)):\n",
    "    for j in range(len(df_resultados.columns)):\n",
    "        cell = table[(i + 1, j)]\n",
    "        cell.set_facecolor(colors[i % len(colors)])\n",
    "\n",
    "plt.show()"
   ]
  },
  {
   "cell_type": "code",
   "execution_count": null,
   "metadata": {},
   "outputs": [],
   "source": []
  }
 ],
 "metadata": {
  "kernelspec": {
   "display_name": "Python 3",
   "language": "python",
   "name": "python3"
  },
  "language_info": {
   "codemirror_mode": {
    "name": "ipython",
    "version": 3
   },
   "file_extension": ".py",
   "mimetype": "text/x-python",
   "name": "python",
   "nbconvert_exporter": "python",
   "pygments_lexer": "ipython3",
   "version": "3.13.1"
  }
 },
 "nbformat": 4,
 "nbformat_minor": 2
}
